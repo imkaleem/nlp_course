{
 "cells": [
  {
   "cell_type": "markdown",
   "id": "8438d797",
   "metadata": {},
   "source": [
    "# Module 1, Week 1, Assignment 2: Exploring NLTK\n",
    "\n",
    "In this assignment, you'll explore NLTK (Natural Language Toolkit), a powerful library for building NLP applications. You'll work on tasks like tagging, parsing, and basic text analysis using NLTK's capabilities.\n",
    "\n",
    "---\n",
    "\n",
    "## Objectives\n",
    "- Learn to perform Part-of-Speech (POS) tagging using NLTK.\n",
    "- Explore Named Entity Recognition (NER).\n",
    "- Use NLTK to calculate word frequency distribution in text.\n",
    "- Understand basic parsing techniques with NLTK.\n",
    "\n",
    "### Instructions:\n",
    "1. Follow the examples and explanations in each section.\n",
    "2. Complete the **TODO** tasks to practice.\n",
    "3. Reflect on the output and experiment with different texts.\n",
    "\n",
    "---"
   ]
  },
  {
   "cell_type": "markdown",
   "id": "92d4c447",
   "metadata": {},
   "source": [
    "## Step 1: Import Required Libraries and Download Data\n",
    "We'll begin by importing NLTK and downloading the necessary datasets for this assignment."
   ]
  },
  {
   "cell_type": "code",
   "execution_count": 1,
   "id": "25e2c81f",
   "metadata": {},
   "outputs": [
    {
     "name": "stderr",
     "output_type": "stream",
     "text": [
      "[nltk_data] Downloading package punkt to\n",
      "[nltk_data]     C:\\Users\\kaleem\\AppData\\Roaming\\nltk_data...\n",
      "[nltk_data]   Package punkt is already up-to-date!\n",
      "[nltk_data] Downloading package averaged_perceptron_tagger to\n",
      "[nltk_data]     C:\\Users\\kaleem\\AppData\\Roaming\\nltk_data...\n",
      "[nltk_data]   Package averaged_perceptron_tagger is already up-to-\n",
      "[nltk_data]       date!\n",
      "[nltk_data] Downloading package averaged_perceptron_tagger_eng to\n",
      "[nltk_data]     C:\\Users\\kaleem\\AppData\\Roaming\\nltk_data...\n",
      "[nltk_data]   Package averaged_perceptron_tagger_eng is already up-to-\n",
      "[nltk_data]       date!\n",
      "[nltk_data] Downloading package maxent_ne_chunker to\n",
      "[nltk_data]     C:\\Users\\kaleem\\AppData\\Roaming\\nltk_data...\n",
      "[nltk_data]   Package maxent_ne_chunker is already up-to-date!\n",
      "[nltk_data] Downloading package words to\n",
      "[nltk_data]     C:\\Users\\kaleem\\AppData\\Roaming\\nltk_data...\n",
      "[nltk_data]   Package words is already up-to-date!\n",
      "[nltk_data] Downloading package gutenberg to\n",
      "[nltk_data]     C:\\Users\\kaleem\\AppData\\Roaming\\nltk_data...\n",
      "[nltk_data]   Package gutenberg is already up-to-date!\n",
      "[nltk_data] Downloading package maxent_ne_chunker_tab to\n",
      "[nltk_data]     C:\\Users\\kaleem\\AppData\\Roaming\\nltk_data...\n",
      "[nltk_data]   Package maxent_ne_chunker_tab is already up-to-date!\n"
     ]
    },
    {
     "data": {
      "text/plain": [
       "True"
      ]
     },
     "execution_count": 1,
     "metadata": {},
     "output_type": "execute_result"
    }
   ],
   "source": [
    "# Import Libraries\n",
    "import nltk\n",
    "from nltk import word_tokenize, pos_tag, ne_chunk\n",
    "from nltk.probability import FreqDist\n",
    "from nltk.tree import Tree\n",
    "from IPython.display import display\n",
    "\n",
    "# Download Required NLTK Data Files\n",
    "nltk.download('punkt')\n",
    "nltk.download('averaged_perceptron_tagger')  # For POS tagging\n",
    "nltk.download('averaged_perceptron_tagger_eng')\n",
    "nltk.download('maxent_ne_chunker')  # For NER\n",
    "nltk.download('words')  # For NER\n",
    "nltk.download('gutenberg')  # Sample texts\n",
    "nltk.download('maxent_ne_chunker_tab')"
   ]
  },
  {
   "cell_type": "markdown",
   "id": "27b2f613",
   "metadata": {},
   "source": [
    "## Step 2: Part-of-Speech (POS) Tagging\n",
    "POS tagging involves labeling each word in a sentence with its grammatical role (e.g., noun, verb, adjective). This is crucial for understanding the structure of a sentence."
   ]
  },
  {
   "cell_type": "code",
   "execution_count": 2,
   "id": "b79c8a60",
   "metadata": {},
   "outputs": [
    {
     "name": "stdout",
     "output_type": "stream",
     "text": [
      "POS Tags:\n",
      " [('Natural', 'JJ'), ('Language', 'NNP'), ('Processing', 'NNP'), ('helps', 'VBZ'), ('computers', 'NNS'), ('understand', 'VBP'), ('human', 'JJ'), ('language', 'NN'), ('.', '.')]\n"
     ]
    }
   ],
   "source": [
    "# Sample Text\n",
    "text = \"Natural Language Processing helps computers understand human language.\"\n",
    "\n",
    "# Tokenize and Apply POS Tagging\n",
    "tokens = word_tokenize(text)\n",
    "pos_tags = pos_tag(tokens)\n",
    "print(\"POS Tags:\\n\", pos_tags)"
   ]
  },
  {
   "cell_type": "markdown",
   "id": "ee363f58-b413-4b49-9d25-785e034781ca",
   "metadata": {},
   "source": [
    "##### Exercise"
   ]
  },
  {
   "cell_type": "code",
   "execution_count": 3,
   "id": "3f2e547c-b539-4981-a052-174372654749",
   "metadata": {},
   "outputs": [
    {
     "name": "stdout",
     "output_type": "stream",
     "text": [
      "\n",
      "POS Tags for Custom Text:\n",
      " [('Natural', 'JJ'), ('Language', 'NNP'), ('Processing', 'NNP'), ('helps', 'VBZ'), ('computers', 'NNS'), ('understand', 'VBP'), ('human', 'JJ'), ('language', 'NN'), ('.', '.'), ('Language', 'NN'), ('is', 'VBZ'), ('a', 'DT'), ('complex', 'JJ'), ('system', 'NN'), ('of', 'IN'), ('communication', 'NN'), ('.', '.')]\n"
     ]
    }
   ],
   "source": [
    "# TODO: Perform POS tagging on a custom sentence\n",
    "text_custom = \"Natural Language Processing helps computers understand human language. Language is a complex system of communication.\"\n",
    "tokens_custom = word_tokenize(text_custom)\n",
    "pos_tags_custom = pos_tag(tokens_custom)\n",
    "print(\"\\nPOS Tags for Custom Text:\\n\", pos_tags_custom)"
   ]
  },
  {
   "cell_type": "markdown",
   "id": "dd355d46",
   "metadata": {},
   "source": [
    "## Step 3: Named Entity Recognition (NER)\n",
    "NER identifies and classifies entities in text, such as names of people, organizations, locations, etc."
   ]
  },
  {
   "cell_type": "code",
   "execution_count": 4,
   "id": "424afaa0",
   "metadata": {},
   "outputs": [
    {
     "name": "stdout",
     "output_type": "stream",
     "text": [
      "ner_tree:  (S\n",
      "  Natural/JJ\n",
      "  Language/NNP\n",
      "  Processing/NNP\n",
      "  helps/VBZ\n",
      "  computers/NNS\n",
      "  understand/VBP\n",
      "  human/JJ\n",
      "  language/NN\n",
      "  ./.)\n",
      "Named Entities:\n"
     ]
    }
   ],
   "source": [
    "# Apply NER on the Sample Text\n",
    "ner_tree = ne_chunk(pos_tags)\n",
    "print(\"ner_tree: \", ner_tree)\n",
    "print(\"Named Entities:\")\n",
    "for subtree in ner_tree:\n",
    "    if isinstance(subtree, Tree):\n",
    "        print(subtree)"
   ]
  },
  {
   "cell_type": "markdown",
   "id": "3a13308a-1b59-48e7-be4d-89d0a7677527",
   "metadata": {},
   "source": [
    "##### Exercise"
   ]
  },
  {
   "cell_type": "code",
   "execution_count": 5,
   "id": "ea610b70-b256-43fb-b331-abe07485a499",
   "metadata": {},
   "outputs": [
    {
     "name": "stdout",
     "output_type": "stream",
     "text": [
      "\n",
      "Named Entities for Custom Text:\n",
      "(PERSON Language/NN)\n"
     ]
    }
   ],
   "source": [
    "# TODO: Perform NER on your custom sentence from Step 2\n",
    "ner_tree_custom = ne_chunk(pos_tags_custom)\n",
    "print(\"\\nNamed Entities for Custom Text:\")\n",
    "for subtree in ner_tree_custom:\n",
    "    if isinstance(subtree, Tree):\n",
    "        print(subtree)"
   ]
  },
  {
   "cell_type": "markdown",
   "id": "6f284267",
   "metadata": {},
   "source": [
    "## Step 4: Word Frequency Distribution\n",
    "Analyzing the frequency of words in a text helps identify common themes or patterns."
   ]
  },
  {
   "cell_type": "code",
   "execution_count": 6,
   "id": "ae1517e8",
   "metadata": {},
   "outputs": [
    {
     "name": "stdout",
     "output_type": "stream",
     "text": [
      "Most Common Words:\n",
      " [(',', 8), ('of', 6), ('and', 4), ('the', 4), ('a', 3), ('had', 3), ('Emma', 2), ('I', 2), ('with', 2), ('to', 2)]\n"
     ]
    },
    {
     "data": {
      "text/plain": [
       "<Axes: title={'center': 'Top 10 Words in Sample Text'}, xlabel='Samples', ylabel='Counts'>"
      ]
     },
     "execution_count": 6,
     "metadata": {},
     "output_type": "execute_result"
    },
    {
     "data": {
      "image/png": "[encoded data removed]",
      "text/plain": [
       "<Figure size 640x480 with 1 Axes>"
      ]
     },
     "metadata": {},
     "output_type": "display_data"
    }
   ],
   "source": [
    "# Sample Text for Frequency Distribution\n",
    "sample_text = nltk.corpus.gutenberg.raw('austen-emma.txt')[:500]\n",
    "tokens_sample = word_tokenize(sample_text)\n",
    "\n",
    "# Calculate Frequency Distribution\n",
    "fdist = FreqDist(tokens_sample)\n",
    "print(\"Most Common Words:\\n\", fdist.most_common(10))\n",
    "\n",
    "# Plot Frequency Distribution\n",
    "fdist.plot(10, title=\"Top 10 Words in Sample Text\")"
   ]
  },
  {
   "cell_type": "markdown",
   "id": "2fbbd1c1-5473-46cb-8e6b-cb49ae50ca92",
   "metadata": {},
   "source": [
    "##### Exercise"
   ]
  },
  {
   "cell_type": "code",
   "execution_count": 7,
   "id": "71561f62-6ec9-4d44-95a6-6fa402f99ec6",
   "metadata": {},
   "outputs": [
    {
     "name": "stdout",
     "output_type": "stream",
     "text": [
      "\n",
      "Most Common Words in Custom Text:\n",
      " [(',', 31), ('the', 24), ('.', 19), ('of', 14), ('and', 14), ('a', 12), ('to', 12), ('NLP', 10), ('in', 10), ('models', 8)]\n"
     ]
    },
    {
     "data": {
      "text/plain": [
       "<Axes: title={'center': 'Top 10 Words in Custom Text'}, xlabel='Samples', ylabel='Counts'>"
      ]
     },
     "execution_count": 7,
     "metadata": {},
     "output_type": "execute_result"
    },
    {
     "data": {
      "image/png": "[encoded data removed]",
      "text/plain": [
       "<Figure size 640x480 with 1 Axes>"
      ]
     },
     "metadata": {},
     "output_type": "display_data"
    }
   ],
   "source": [
    "# TODO: Perform frequency distribution analysis on a custom paragraph\n",
    "custom_text = custom_text = \"\"\"\n",
    "In the realm of artificial intelligence, natural language processing (NLP) plays a pivotal role in bridging the gap between humans and machines. NLP involves the development of algorithms and models that allow computers to understand, interpret, and generate human language in a way that is both meaningful and efficient. The field has evolved significantly over the years, with the advent of deep learning and neural networks providing the computational power needed to tackle complex tasks. \n",
    "\n",
    "One of the primary challenges in NLP is dealing with the ambiguity of language. Words can have multiple meanings depending on their context, and sentences can be structured in numerous ways to convey the same idea. For example, consider the sentence, \"I saw the man with the telescope.\" This sentence could imply that the speaker saw a man who had a telescope, or it could suggest that the speaker used a telescope to see the man. Resolving such ambiguities is a crucial task for NLP models.\n",
    "\n",
    "Another major challenge in NLP is understanding the sentiment behind a piece of text. Sentiment analysis involves determining whether the tone of a piece of writing is positive, negative, or neutral. This is particularly useful in applications such as customer feedback analysis, where businesses need to gauge public opinion on their products or services. While humans can easily understand sentiment, teaching a machine to do so is not a trivial task, especially when it comes to handling sarcasm, irony, and subtle emotions.\n",
    "\n",
    "Over the years, NLP has made tremendous strides, thanks to advancements in machine learning, particularly with the rise of transformer models such as BERT (Bidirectional Encoder Representations from Transformers) and GPT (Generative Pre-trained Transformer). These models have revolutionized the way machines understand and generate language. They are capable of capturing the context of words in a way that earlier models could not, making them far more accurate and effective for a wide range of NLP tasks, from translation to question answering.\n",
    "\n",
    "Despite these advancements, challenges remain in the field of NLP. For example, biases present in training data can be learned and perpetuated by NLP models, leading to skewed or unfair outcomes. Additionally, while models like GPT-3 have demonstrated impressive language generation capabilities, they still struggle with tasks that require deeper understanding, reasoning, and common sense knowledge. As the field continues to evolve, researchers are working on ways to improve the interpretability, fairness, and robustness of NLP models, ensuring that they can be used safely and effectively across various applications.\n",
    "\"\"\"\n",
    "tokens_custom = word_tokenize(custom_text)\n",
    "fdist_custom = FreqDist(tokens_custom)\n",
    "print(\"\\nMost Common Words in Custom Text:\\n\", fdist_custom.most_common(10))\n",
    "fdist_custom.plot(10, title=\"Top 10 Words in Custom Text\")"
   ]
  },
  {
   "cell_type": "markdown",
   "id": "5384d853",
   "metadata": {},
   "source": [
    "## Step 5: Parsing Sentences\n",
    "Parsing involves analyzing the grammatical structure of a sentence. NLTK provides tools for syntactic parsing."
   ]
  },
  {
   "cell_type": "code",
   "execution_count": 8,
   "id": "7c6dad1b",
   "metadata": {},
   "outputs": [
    {
     "name": "stdout",
     "output_type": "stream",
     "text": [
      "(S (NP (DT the) (NN cat)) (VP (VBZ sits) (NP (DT the) (NN mat))))\n"
     ]
    },
    {
     "data": {
      "image/svg+xml": [
       "<svg baseProfile=\"full\" height=\"216px\" preserveAspectRatio=\"xMidYMid meet\" style=\"font-family: times, serif; font-weight: normal; font-style: normal; font-size: 16px\" version=\"1.1\" viewBox=\"0,0,208.0,216.0\" width=\"208px\" xmlns=\"http://www.w3.org/2000/svg\" xmlns:ev=\"http://www.w3.org/2001/xml-events\" xmlns:xlink=\"http://www.w3.org/1999/xlink\"><defs /><svg width=\"100%\" x=\"0\" y=\"0px\"><defs /><text text-anchor=\"middle\" x=\"50%\" y=\"16px\">S</text></svg><svg width=\"38.4615%\" x=\"0%\" y=\"48px\"><defs /><svg width=\"100%\" x=\"0\" y=\"0px\"><defs /><text text-anchor=\"middle\" x=\"50%\" y=\"16px\">NP</text></svg><svg width=\"50%\" x=\"0%\" y=\"48px\"><defs /><svg width=\"100%\" x=\"0\" y=\"0px\"><defs /><text text-anchor=\"middle\" x=\"50%\" y=\"16px\">DT</text></svg><svg width=\"100%\" x=\"0%\" y=\"48px\"><defs /><svg width=\"100%\" x=\"0\" y=\"0px\"><defs /><text text-anchor=\"middle\" x=\"50%\" y=\"16px\">the</text></svg></svg><line stroke=\"black\" x1=\"50%\" x2=\"50%\" y1=\"20px\" y2=\"48px\" /></svg><line stroke=\"black\" x1=\"50%\" x2=\"25%\" y1=\"20px\" y2=\"48px\" /><svg width=\"50%\" x=\"50%\" y=\"48px\"><defs /><svg width=\"100%\" x=\"0\" y=\"0px\"><defs /><text text-anchor=\"middle\" x=\"50%\" y=\"16px\">NN</text></svg><svg width=\"100%\" x=\"0%\" y=\"48px\"><defs /><svg width=\"100%\" x=\"0\" y=\"0px\"><defs /><text text-anchor=\"middle\" x=\"50%\" y=\"16px\">cat</text></svg></svg><line stroke=\"black\" x1=\"50%\" x2=\"50%\" y1=\"20px\" y2=\"48px\" /></svg><line stroke=\"black\" x1=\"50%\" x2=\"75%\" y1=\"20px\" y2=\"48px\" /></svg><line stroke=\"black\" x1=\"50%\" x2=\"19.2308%\" y1=\"20px\" y2=\"48px\" /><svg width=\"61.5385%\" x=\"38.4615%\" y=\"48px\"><defs /><svg width=\"100%\" x=\"0\" y=\"0px\"><defs /><text text-anchor=\"middle\" x=\"50%\" y=\"16px\">VP</text></svg><svg width=\"37.5%\" x=\"0%\" y=\"48px\"><defs /><svg width=\"100%\" x=\"0\" y=\"0px\"><defs /><text text-anchor=\"middle\" x=\"50%\" y=\"16px\">VBZ</text></svg><svg width=\"100%\" x=\"0%\" y=\"48px\"><defs /><svg width=\"100%\" x=\"0\" y=\"0px\"><defs /><text text-anchor=\"middle\" x=\"50%\" y=\"16px\">sits</text></svg></svg><line stroke=\"black\" x1=\"50%\" x2=\"50%\" y1=\"20px\" y2=\"48px\" /></svg><line stroke=\"black\" x1=\"50%\" x2=\"18.75%\" y1=\"20px\" y2=\"48px\" /><svg width=\"62.5%\" x=\"37.5%\" y=\"48px\"><defs /><svg width=\"100%\" x=\"0\" y=\"0px\"><defs /><text text-anchor=\"middle\" x=\"50%\" y=\"16px\">NP</text></svg><svg width=\"50%\" x=\"0%\" y=\"48px\"><defs /><svg width=\"100%\" x=\"0\" y=\"0px\"><defs /><text text-anchor=\"middle\" x=\"50%\" y=\"16px\">DT</text></svg><svg width=\"100%\" x=\"0%\" y=\"48px\"><defs /><svg width=\"100%\" x=\"0\" y=\"0px\"><defs /><text text-anchor=\"middle\" x=\"50%\" y=\"16px\">the</text></svg></svg><line stroke=\"black\" x1=\"50%\" x2=\"50%\" y1=\"20px\" y2=\"48px\" /></svg><line stroke=\"black\" x1=\"50%\" x2=\"25%\" y1=\"20px\" y2=\"48px\" /><svg width=\"50%\" x=\"50%\" y=\"48px\"><defs /><svg width=\"100%\" x=\"0\" y=\"0px\"><defs /><text text-anchor=\"middle\" x=\"50%\" y=\"16px\">NN</text></svg><svg width=\"100%\" x=\"0%\" y=\"48px\"><defs /><svg width=\"100%\" x=\"0\" y=\"0px\"><defs /><text text-anchor=\"middle\" x=\"50%\" y=\"16px\">mat</text></svg></svg><line stroke=\"black\" x1=\"50%\" x2=\"50%\" y1=\"20px\" y2=\"48px\" /></svg><line stroke=\"black\" x1=\"50%\" x2=\"75%\" y1=\"20px\" y2=\"48px\" /></svg><line stroke=\"black\" x1=\"50%\" x2=\"68.75%\" y1=\"20px\" y2=\"48px\" /></svg><line stroke=\"black\" x1=\"50%\" x2=\"69.2308%\" y1=\"20px\" y2=\"48px\" /></svg>"
      ],
      "text/plain": [
       "Tree('S', [Tree('NP', [Tree('DT', ['the']), Tree('NN', ['cat'])]), Tree('VP', [Tree('VBZ', ['sits']), Tree('NP', [Tree('DT', ['the']), Tree('NN', ['mat'])])])])"
      ]
     },
     "metadata": {},
     "output_type": "display_data"
    }
   ],
   "source": [
    "# Define a Simple Grammar for Parsing\n",
    "grammar = nltk.CFG.fromstring(\"\"\"\n",
    "  S -> NP VP\n",
    "  NP -> DT NN\n",
    "  VP -> VBZ NP\n",
    "  DT -> 'the'\n",
    "  NN -> 'cat' | 'mat'\n",
    "  VBZ -> 'sits'\n",
    "\"\"\")\n",
    "\n",
    "# Create a Parser\n",
    "parser = nltk.ChartParser(grammar)\n",
    "\n",
    "# Parse a Sentence\n",
    "sentence = ['the', 'cat', 'sits', 'the', 'mat']\n",
    "for tree in parser.parse(sentence):\n",
    "    print(tree)\n",
    "    display(tree)\n",
    "    #tree.draw()"
   ]
  },
  {
   "cell_type": "markdown",
   "id": "032429c5-4e8f-4c0a-9ccb-27cf8b2e5cc4",
   "metadata": {},
   "source": [
    "##### Exercise"
   ]
  },
  {
   "cell_type": "code",
   "execution_count": 10,
   "id": "14131d7a-1fab-460d-9e73-3636a1b02404",
   "metadata": {},
   "outputs": [
    {
     "name": "stdout",
     "output_type": "stream",
     "text": [
      "(S\n",
      "  (NP (DT the) (JJ lazy) (NN dog))\n",
      "  (VP (VBZ chases) (NP (DT the) (JJ big) (NN mat))))\n"
     ]
    },
    {
     "data": {
      "image/svg+xml": [
       "<svg baseProfile=\"full\" height=\"216px\" preserveAspectRatio=\"xMidYMid meet\" style=\"font-family: times, serif; font-weight: normal; font-style: normal; font-size: 16px\" version=\"1.1\" viewBox=\"0,0,312.0,216.0\" width=\"312px\" xmlns=\"http://www.w3.org/2000/svg\" xmlns:ev=\"http://www.w3.org/2001/xml-events\" xmlns:xlink=\"http://www.w3.org/1999/xlink\"><defs /><svg width=\"100%\" x=\"0\" y=\"0px\"><defs /><text text-anchor=\"middle\" x=\"50%\" y=\"16px\">S</text></svg><svg width=\"41.0256%\" x=\"0%\" y=\"48px\"><defs /><svg width=\"100%\" x=\"0\" y=\"0px\"><defs /><text text-anchor=\"middle\" x=\"50%\" y=\"16px\">NP</text></svg><svg width=\"31.25%\" x=\"0%\" y=\"48px\"><defs /><svg width=\"100%\" x=\"0\" y=\"0px\"><defs /><text text-anchor=\"middle\" x=\"50%\" y=\"16px\">DT</text></svg><svg width=\"100%\" x=\"0%\" y=\"48px\"><defs /><svg width=\"100%\" x=\"0\" y=\"0px\"><defs /><text text-anchor=\"middle\" x=\"50%\" y=\"16px\">the</text></svg></svg><line stroke=\"black\" x1=\"50%\" x2=\"50%\" y1=\"20px\" y2=\"48px\" /></svg><line stroke=\"black\" x1=\"50%\" x2=\"15.625%\" y1=\"20px\" y2=\"48px\" /><svg width=\"37.5%\" x=\"31.25%\" y=\"48px\"><defs /><svg width=\"100%\" x=\"0\" y=\"0px\"><defs /><text text-anchor=\"middle\" x=\"50%\" y=\"16px\">JJ</text></svg><svg width=\"100%\" x=\"0%\" y=\"48px\"><defs /><svg width=\"100%\" x=\"0\" y=\"0px\"><defs /><text text-anchor=\"middle\" x=\"50%\" y=\"16px\">lazy</text></svg></svg><line stroke=\"black\" x1=\"50%\" x2=\"50%\" y1=\"20px\" y2=\"48px\" /></svg><line stroke=\"black\" x1=\"50%\" x2=\"50%\" y1=\"20px\" y2=\"48px\" /><svg width=\"31.25%\" x=\"68.75%\" y=\"48px\"><defs /><svg width=\"100%\" x=\"0\" y=\"0px\"><defs /><text text-anchor=\"middle\" x=\"50%\" y=\"16px\">NN</text></svg><svg width=\"100%\" x=\"0%\" y=\"48px\"><defs /><svg width=\"100%\" x=\"0\" y=\"0px\"><defs /><text text-anchor=\"middle\" x=\"50%\" y=\"16px\">dog</text></svg></svg><line stroke=\"black\" x1=\"50%\" x2=\"50%\" y1=\"20px\" y2=\"48px\" /></svg><line stroke=\"black\" x1=\"50%\" x2=\"84.375%\" y1=\"20px\" y2=\"48px\" /></svg><line stroke=\"black\" x1=\"50%\" x2=\"20.5128%\" y1=\"20px\" y2=\"48px\" /><svg width=\"58.9744%\" x=\"41.0256%\" y=\"48px\"><defs /><svg width=\"100%\" x=\"0\" y=\"0px\"><defs /><text text-anchor=\"middle\" x=\"50%\" y=\"16px\">VP</text></svg><svg width=\"34.7826%\" x=\"0%\" y=\"48px\"><defs /><svg width=\"100%\" x=\"0\" y=\"0px\"><defs /><text text-anchor=\"middle\" x=\"50%\" y=\"16px\">VBZ</text></svg><svg width=\"100%\" x=\"0%\" y=\"48px\"><defs /><svg width=\"100%\" x=\"0\" y=\"0px\"><defs /><text text-anchor=\"middle\" x=\"50%\" y=\"16px\">chases</text></svg></svg><line stroke=\"black\" x1=\"50%\" x2=\"50%\" y1=\"20px\" y2=\"48px\" /></svg><line stroke=\"black\" x1=\"50%\" x2=\"17.3913%\" y1=\"20px\" y2=\"48px\" /><svg width=\"65.2174%\" x=\"34.7826%\" y=\"48px\"><defs /><svg width=\"100%\" x=\"0\" y=\"0px\"><defs /><text text-anchor=\"middle\" x=\"50%\" y=\"16px\">NP</text></svg><svg width=\"33.3333%\" x=\"0%\" y=\"48px\"><defs /><svg width=\"100%\" x=\"0\" y=\"0px\"><defs /><text text-anchor=\"middle\" x=\"50%\" y=\"16px\">DT</text></svg><svg width=\"100%\" x=\"0%\" y=\"48px\"><defs /><svg width=\"100%\" x=\"0\" y=\"0px\"><defs /><text text-anchor=\"middle\" x=\"50%\" y=\"16px\">the</text></svg></svg><line stroke=\"black\" x1=\"50%\" x2=\"50%\" y1=\"20px\" y2=\"48px\" /></svg><line stroke=\"black\" x1=\"50%\" x2=\"16.6667%\" y1=\"20px\" y2=\"48px\" /><svg width=\"33.3333%\" x=\"33.3333%\" y=\"48px\"><defs /><svg width=\"100%\" x=\"0\" y=\"0px\"><defs /><text text-anchor=\"middle\" x=\"50%\" y=\"16px\">JJ</text></svg><svg width=\"100%\" x=\"0%\" y=\"48px\"><defs /><svg width=\"100%\" x=\"0\" y=\"0px\"><defs /><text text-anchor=\"middle\" x=\"50%\" y=\"16px\">big</text></svg></svg><line stroke=\"black\" x1=\"50%\" x2=\"50%\" y1=\"20px\" y2=\"48px\" /></svg><line stroke=\"black\" x1=\"50%\" x2=\"50%\" y1=\"20px\" y2=\"48px\" /><svg width=\"33.3333%\" x=\"66.6667%\" y=\"48px\"><defs /><svg width=\"100%\" x=\"0\" y=\"0px\"><defs /><text text-anchor=\"middle\" x=\"50%\" y=\"16px\">NN</text></svg><svg width=\"100%\" x=\"0%\" y=\"48px\"><defs /><svg width=\"100%\" x=\"0\" y=\"0px\"><defs /><text text-anchor=\"middle\" x=\"50%\" y=\"16px\">mat</text></svg></svg><line stroke=\"black\" x1=\"50%\" x2=\"50%\" y1=\"20px\" y2=\"48px\" /></svg><line stroke=\"black\" x1=\"50%\" x2=\"83.3333%\" y1=\"20px\" y2=\"48px\" /></svg><line stroke=\"black\" x1=\"50%\" x2=\"67.3913%\" y1=\"20px\" y2=\"48px\" /></svg><line stroke=\"black\" x1=\"50%\" x2=\"70.5128%\" y1=\"20px\" y2=\"48px\" /></svg>"
      ],
      "text/plain": [
       "Tree('S', [Tree('NP', [Tree('DT', ['the']), Tree('JJ', ['lazy']), Tree('NN', ['dog'])]), Tree('VP', [Tree('VBZ', ['chases']), Tree('NP', [Tree('DT', ['the']), Tree('JJ', ['big']), Tree('NN', ['mat'])])])])"
      ]
     },
     "metadata": {},
     "output_type": "display_data"
    }
   ],
   "source": [
    "# TODO: Define a custom grammar and parse a new sentence\n",
    "custom_grammar = nltk.CFG.fromstring(\"\"\"\n",
    "  S -> NP VP\n",
    "  NP -> DT NN | DT JJ NN\n",
    "  VP -> VBZ NP | VBZ ADJP\n",
    "  DT -> 'the' | 'a'\n",
    "  NN -> 'dog' | 'cat' | 'mat' | 'park'\n",
    "  JJ -> 'lazy' | 'big' | 'green'\n",
    "  VBZ -> 'chases' | 'sits'\n",
    "  ADJP -> JJ\n",
    "\"\"\")\n",
    "custom_parser = nltk.ChartParser(custom_grammar)\n",
    "custom_sentence = [\"the\", \"lazy\", \"dog\", \"chases\", \"the\", \"big\", \"mat\"]\n",
    "for tree in custom_parser.parse(custom_sentence):\n",
    "    print(tree)\n",
    "    display(tree)\n",
    "    #tree.draw()"
   ]
  },
  {
   "cell_type": "markdown",
   "id": "a966abc4",
   "metadata": {},
   "source": [
    "### Congratulations! 🎉\n",
    "You have completed the second assignment on exploring NLTK. You've worked with POS tagging, NER, frequency distribution, and basic parsing, which are foundational skills for NLP tasks.\n",
    "\n",
    "---\n",
    "\n",
    "### Reflection:\n",
    "- How does NER help in extracting important information from text?\n",
    "- What insights can you gain from word frequency distribution?\n",
    "- Experiment with different grammars and sentences in parsing. What challenges do you encounter?\n",
    "\n",
    "Feel free to expand on these techniques and explore NLTK's additional functionalities!"
   ]
  }
 ],
 "metadata": {
  "kernelspec": {
   "display_name": "Python 3 (ipykernel)",
   "language": "python",
   "name": "python3"
  },
  "language_info": {
   "codemirror_mode": {
    "name": "ipython",
    "version": 3
   },
   "file_extension": ".py",
   "mimetype": "text/x-python",
   "name": "python",
   "nbconvert_exporter": "python",
   "pygments_lexer": "ipython3",
   "version": "3.11.0"
  }
 },
 "nbformat": 4,
 "nbformat_minor": 5
}
