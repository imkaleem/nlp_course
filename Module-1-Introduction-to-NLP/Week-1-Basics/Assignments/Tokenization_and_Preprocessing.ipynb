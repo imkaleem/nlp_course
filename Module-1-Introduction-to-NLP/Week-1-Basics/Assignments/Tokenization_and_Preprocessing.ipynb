{
 "cells": [
  {
   "cell_type": "markdown",
   "id": "7e839a31",
   "metadata": {},
   "source": [
    "# 2. Assignments\n",
    "\n",
    "### 2.1 Tokenization-and-Preprocessing.ipynb\n",
    "\n",
    "#### Content Outline:\n",
    "\n",
    "- **Introduction to text preprocessing and its importance in NLP.**\n",
    "  \n",
    "- **Hands-on examples of:**\n",
    "  - Tokenization: Splitting text into words or sentences.\n",
    "  - Removing punctuation and special characters.\n",
    "  - Lowercasing and basic normalization.\n",
    "  - Removing stopwords using NLTK.\n",
    "\n",
    "#### Example Activities:\n",
    "\n",
    "1. Tokenize sentences from a paragraph.\n",
    "2. Remove stopwords and analyze the reduced text.\n",
    "3. Compare raw vs. preprocessed text."
   ]
  },
  {
   "cell_type": "code",
   "execution_count": null,
   "id": "7c87ca1e",
   "metadata": {},
   "outputs": [],
   "source": []
  }
 ],
 "metadata": {
  "kernelspec": {
   "display_name": "Python 3 (ipykernel)",
   "language": "python",
   "name": "python3"
  },
  "language_info": {
   "codemirror_mode": {
    "name": "ipython",
    "version": 3
   },
   "file_extension": ".py",
   "mimetype": "text/x-python",
   "name": "python",
   "nbconvert_exporter": "python",
   "pygments_lexer": "ipython3",
   "version": "3.10.0"
  }
 },
 "nbformat": 4,
 "nbformat_minor": 5
}
