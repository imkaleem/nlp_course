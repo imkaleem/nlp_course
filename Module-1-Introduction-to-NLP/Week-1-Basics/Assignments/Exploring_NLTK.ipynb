{
 "cells": [
  {
   "cell_type": "markdown",
   "id": "ec51768b",
   "metadata": {},
   "source": [
    "### 2.2 Exploring-NLTK.ipynb\n",
    "\n",
    "#### Content Outline:\n",
    "\n",
    "- **Introduction to NLTK and its key features.**\n",
    "\n",
    "- **Hands-on exploration of:**\n",
    "  - Accessing datasets in NLTK (e.g., Gutenberg corpus).\n",
    "  - Using NLTK to tokenize, tag parts of speech, and extract entities.\n",
    "  - Visualizing word frequencies.\n",
    "\n",
    "#### Example Activities:\n",
    "\n",
    "1. Load a text dataset from NLTK and perform basic analysis.\n",
    "2. Create a word cloud using word frequency data.\n",
    "3. Identify parts of speech (POS) tags for a given text.\n"
   ]
  },
  {
   "cell_type": "code",
   "execution_count": null,
   "id": "73f8da78",
   "metadata": {},
   "outputs": [],
   "source": []
  }
 ],
 "metadata": {
  "kernelspec": {
   "display_name": "Python 3 (ipykernel)",
   "language": "python",
   "name": "python3"
  },
  "language_info": {
   "codemirror_mode": {
    "name": "ipython",
    "version": 3
   },
   "file_extension": ".py",
   "mimetype": "text/x-python",
   "name": "python",
   "nbconvert_exporter": "python",
   "pygments_lexer": "ipython3",
   "version": "3.10.0"
  }
 },
 "nbformat": 4,
 "nbformat_minor": 5
}
